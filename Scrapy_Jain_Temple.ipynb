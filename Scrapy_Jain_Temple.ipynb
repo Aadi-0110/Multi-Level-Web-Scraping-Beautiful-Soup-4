{
 "cells": [
  {
   "cell_type": "code",
   "execution_count": 77,
   "metadata": {},
   "outputs": [],
   "source": [
    "from bs4 import BeautifulSoup\n",
    "import json\n",
    "import re\n",
    "import requests"
   ]
  },
  {
   "cell_type": "code",
   "execution_count": 111,
   "metadata": {},
   "outputs": [],
   "source": [
    "def has_id_but_no_class(tag):\n",
    "    return tag.has_attr('id') and not tag.has_attr('class')\n",
    "\n",
    "def make_description(llist):\n",
    "    for tag in llist:\n",
    "        if tag.text[:6] == \"<p><p>\":\n",
    "            pass\n",
    "        elif tag.text[:9] == \"<p><p><p>\":\n",
    "            pass\n",
    "        else:\n",
    "            data = re.sub('<strong>|<\\/strong>,|<\\/strong>|\\n|<p>|</p>|Address:|', '', str(tag.text))\n",
    "            data = re.sub('\\r', \" \", str(data))\n",
    "            return data\n",
    "            \n",
    "\n",
    "def make_address(llist):\n",
    "    s = {}\n",
    "    location = {}\n",
    "    try:\n",
    "        ad = llist[0]\n",
    "        ad = re.sub('<strong>|<\\/strong>,|<\\/strong>|\\n|<p>|</p>|Address:|\\r', '', str(ad))\n",
    "        s['addressLine1'] = ad\n",
    "        x = llist[1]\n",
    "        x = re.sub('<strong>|<\\/strong>,|<\\/strong>|\\n|<p>|</p>|\\r', '', str(x))\n",
    "        x = x.rstrip(' ')\n",
    "        x = x.lstrip(\" \")\n",
    "        j = x.split(\",\")\n",
    "        for i in j:\n",
    "            k,v = i.strip(\" \").split(\":\")\n",
    "            s[k.strip(\" \").lower()] = v.strip(\" \")\n",
    "\n",
    "        t = llist[2].find('a')['href']\n",
    "        tj = re.sub('http:\\/\\/maps\\.google\\.com\\/\\?q=', '', str(t))\n",
    "        lat, long = tj.split(\",\")\n",
    "        location[\"latitude\"] = lat\n",
    "        location[\"longitude\"] = long\n",
    "    #     print(s)\n",
    "    except:\n",
    "        pass\n",
    "    return s,location\n",
    "\n",
    "def get_details(url):\n",
    "    finald = {}\n",
    "    url = 'http://jainmandir.org' + url\n",
    "    res = requests.get(url)\n",
    "    soup = BeautifulSoup(res.text, 'html.parser')\n",
    "    divs = soup.find_all(has_id_but_no_class)\n",
    "    div_des = divs[1].find_all('p')\n",
    "    div_contact = divs[2].find_all('p')\n",
    "    div_services = divs[3].find_all(class_='service-text')\n",
    "    div_our_work = [i['href'] for i in divs[4].find_all('a')]\n",
    "#     print(div_contact, div_services, div_our_work)\n",
    "    address, location = make_address(div_contact)\n",
    "    images = div_our_work\n",
    "    desc = make_description(div_des)\n",
    "#     print(div_des, desc)\n",
    "#     print(finald[\"Contact\"])\n",
    "    return address, location, images, desc"
   ]
  },
  {
   "cell_type": "code",
   "execution_count": 117,
   "metadata": {
    "scrolled": true
   },
   "outputs": [
    {
     "name": "stdout",
     "output_type": "stream",
     "text": [
      "done ==> 0.0%\n",
      "error occured\n",
      "done ==> 2.7777777777777777%\n",
      "done ==> 5.555555555555555%\n",
      "error occured\n",
      "error occured\n",
      "done ==> 8.333333333333332%\n",
      "done ==> 11.11111111111111%\n",
      "done ==> 13.88888888888889%\n",
      "error occured\n",
      "done ==> 16.666666666666664%\n",
      "done ==> 19.444444444444446%\n",
      "done ==> 22.22222222222222%\n",
      "done ==> 25.0%\n",
      "done ==> 27.77777777777778%\n",
      "done ==> 30.555555555555557%\n",
      "done ==> 33.33333333333333%\n",
      "done ==> 36.11111111111111%\n",
      "done ==> 38.88888888888889%\n",
      "done ==> 41.66666666666667%\n",
      "error occured\n",
      "done ==> 44.44444444444444%\n",
      "error occured\n",
      "done ==> 47.22222222222222%\n",
      "done ==> 50.0%\n",
      "done ==> 52.77777777777778%\n",
      "done ==> 55.55555555555556%\n",
      "done ==> 58.333333333333336%\n",
      "error occured\n",
      "done ==> 61.111111111111114%\n",
      "done ==> 63.888888888888886%\n",
      "done ==> 66.66666666666666%\n",
      "error occured\n",
      "done ==> 69.44444444444444%\n",
      "error occured\n",
      "done ==> 72.22222222222221%\n",
      "done ==> 75.0%\n",
      "done ==> 77.77777777777779%\n",
      "done ==> 80.55555555555556%\n",
      "done ==> 83.33333333333334%\n",
      "done ==> 86.11111111111111%\n",
      "done ==> 88.88888888888889%\n",
      "error occured\n",
      "done ==> 91.66666666666666%\n",
      "error occured\n",
      "done ==> 94.44444444444444%\n",
      "done ==> 97.22222222222221%\n"
     ]
    }
   ],
   "source": [
    "# states = ['Rajasthan', 'Bengal', 'Orissa', 'Jharkhand', 'Delhi', 'Karnataka', 'Kerela', 'Bihar', 'Madhya', 'Andhra', 'Telengana', 'Maharashtra', 'Chattisgarh', 'Punjab', 'Haryana', 'Uttar', 'Himachal']\n",
    "states=['Andhra', 'Arunachal', 'Assam', 'Bihar', 'Chhattisgarh', 'Goa', 'Gujarat', 'Haryana', 'Himachal', 'Jammu', 'Jharkhand', 'Karnataka', 'Kerala', 'Madhya', 'Maharashtra', 'Manipur', 'Meghalaya', 'Mizoram', 'Nagaland', 'Odisha', 'Punjab', 'Rajasthan', 'Sikkim', 'Tamil', 'Telangana', 'Tripura', 'UttarPradesh', 'Uttarakhand', 'Bengal', 'Andaman', 'Chandigarh', 'Dadra', 'Daman', 'Lakshadweep', 'Delhi', 'Puducherry']\n",
    "l = []\n",
    "file = open('final_jain_temples.json', 'a+')\n",
    "error = open('error.log', 'a+')\n",
    "#states = ['Rajasthan','Bengal','Jharkhand']\n",
    "for state in states:\n",
    "    url = 'http://jainmandir.org/MainPage/Search/' + state\n",
    "    res = requests.get(url)\n",
    "    soup = BeautifulSoup(res.text , 'html.parser')\n",
    "    table = soup.find(class_='table table-bordered table-responsive')\n",
    "    thead = table.find('thead')\n",
    "    tbody = table.find('tbody')\n",
    "    trs = tbody.find_all('tr')\n",
    "    for tr in trs:\n",
    "        try:\n",
    "            newd = {\"publishType\": \"PUBLISHED\",\n",
    "          \"verificationType\": \"VERIFIED\",\n",
    "          \"type\": \"MANDIR\",\n",
    "          \"kshetra\": \"ATISHAY\",\n",
    "          \"mulnayak\": \"TIRTHANKAR\",\n",
    "          \"panth\": \"TERAPANTH\"}\n",
    "            tds = tr.find_all('td')\n",
    "            newd[\"name\"] = tds[0].text\n",
    "            newd[\"sect\"] = tds[1].text\n",
    "            newd[\"address\"], newd[\"location\"], newd[\"images\"], newd[\"description\"] = get_details(tds[2].find('a')[\"href\"])\n",
    "            l.append(newd)\n",
    "        except:\n",
    "            print(tr, file=error)\n",
    "            print(\"error occured\")\n",
    "    print(\"done ==> {}%\".format((states.index(state)/len(states))*100))\n",
    "z = json.dumps(l)\n",
    "print(z, file=file)\n",
    "file.close()\n",
    "error.close()"
   ]
  },
  {
   "cell_type": "code",
   "execution_count": 110,
   "metadata": {},
   "outputs": [
    {
     "data": {
      "text/plain": [
       "'aditya'"
      ]
     },
     "execution_count": 110,
     "metadata": {},
     "output_type": "execute_result"
    }
   ],
   "source": [
    "x = \" Aditya\"\n",
    "x.strip(\" \").lower()"
   ]
  }
 ],
 "metadata": {
  "kernelspec": {
   "display_name": "Python 3",
   "language": "python",
   "name": "python3"
  },
  "language_info": {
   "codemirror_mode": {
    "name": "ipython",
    "version": 3
   },
   "file_extension": ".py",
   "mimetype": "text/x-python",
   "name": "python",
   "nbconvert_exporter": "python",
   "pygments_lexer": "ipython3",
   "version": "3.7.3rc1"
  }
 },
 "nbformat": 4,
 "nbformat_minor": 2
}
